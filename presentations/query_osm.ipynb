{
 "cells": [
  {
   "cell_type": "markdown",
   "id": "db64efa0-73b5-4082-989c-df203ca2a197",
   "metadata": {},
   "source": [
    "# Query Data from OpenStreetMaps"
   ]
  },
  {
   "cell_type": "code",
   "execution_count": null,
   "id": "76afa07b-023d-4e20-aca8-e16ad83e78d7",
   "metadata": {},
   "outputs": [],
   "source": []
  }
 ],
 "metadata": {
  "kernelspec": {
   "display_name": "Python 3 (ipykernel)",
   "language": "python",
   "name": "python3"
  },
  "language_info": {
   "codemirror_mode": {
    "name": "ipython",
    "version": 3
   },
   "file_extension": ".py",
   "mimetype": "text/x-python",
   "name": "python",
   "nbconvert_exporter": "python",
   "pygments_lexer": "ipython3",
   "version": "3.12.3"
  }
 },
 "nbformat": 4,
 "nbformat_minor": 5
}
