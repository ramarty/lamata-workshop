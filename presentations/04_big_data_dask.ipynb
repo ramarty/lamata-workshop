{
 "cells": [
  {
   "cell_type": "markdown",
   "id": "03bc7ccc-ddf5-4e9f-837a-5d9d7969c317",
   "metadata": {},
   "source": [
    "# Using Dask to Process Big data\n",
    "\n",
    "1. Overview, walking through with 1 dataset\n",
    "2. Exercises with another dataset"
   ]
  },
  {
   "cell_type": "code",
   "execution_count": null,
   "id": "d5315c28-f2a8-455a-9e85-ccf071ddf05a",
   "metadata": {},
   "outputs": [],
   "source": []
  }
 ],
 "metadata": {
  "kernelspec": {
   "display_name": "Python 3 (ipykernel)",
   "language": "python",
   "name": "python3"
  },
  "language_info": {
   "codemirror_mode": {
    "name": "ipython",
    "version": 3
   },
   "file_extension": ".py",
   "mimetype": "text/x-python",
   "name": "python",
   "nbconvert_exporter": "python",
   "pygments_lexer": "ipython3",
   "version": "3.12.3"
  }
 },
 "nbformat": 4,
 "nbformat_minor": 5
}
