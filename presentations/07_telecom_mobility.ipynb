{
 "cells": [
  {
   "cell_type": "markdown",
   "id": "0286b133-580b-41bf-abd8-951a405ef6ed",
   "metadata": {},
   "source": [
    "# Mobility Data (Telecom)"
   ]
  },
  {
   "cell_type": "code",
   "execution_count": null,
   "id": "c68b573a-51ed-49d7-852a-5ae883cbb06a",
   "metadata": {},
   "outputs": [],
   "source": []
  }
 ],
 "metadata": {
  "kernelspec": {
   "display_name": "Python 3 (ipykernel)",
   "language": "python",
   "name": "python3"
  },
  "language_info": {
   "codemirror_mode": {
    "name": "ipython",
    "version": 3
   },
   "file_extension": ".py",
   "mimetype": "text/x-python",
   "name": "python",
   "nbconvert_exporter": "python",
   "pygments_lexer": "ipython3",
   "version": "3.12.3"
  }
 },
 "nbformat": 4,
 "nbformat_minor": 5
}
