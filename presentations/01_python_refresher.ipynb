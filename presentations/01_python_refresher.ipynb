{
 "cells": [
  {
   "cell_type": "markdown",
   "id": "ff23cc33-b25b-4cae-98c5-82add0bdc079",
   "metadata": {},
   "source": [
    "# Python Refresher"
   ]
  },
  {
   "cell_type": "markdown",
   "id": "1438102d-cee7-4f9c-89fe-6cea1041d237",
   "metadata": {},
   "source": [
    "1. Pandas. Load data. Manipulate data.\n",
    "2. Make function. Apply accross pandas.\n",
    "3. Figures.\n",
    "4. Geopandas. Intersections. Distances"
   ]
  },
  {
   "cell_type": "code",
   "execution_count": null,
   "id": "7e3c2770-b972-45c1-a096-970427074874",
   "metadata": {},
   "outputs": [],
   "source": []
  }
 ],
 "metadata": {
  "kernelspec": {
   "display_name": "Python 3 (ipykernel)",
   "language": "python",
   "name": "python3"
  },
  "language_info": {
   "codemirror_mode": {
    "name": "ipython",
    "version": 3
   },
   "file_extension": ".py",
   "mimetype": "text/x-python",
   "name": "python",
   "nbconvert_exporter": "python",
   "pygments_lexer": "ipython3",
   "version": "3.12.3"
  }
 },
 "nbformat": 4,
 "nbformat_minor": 5
}
